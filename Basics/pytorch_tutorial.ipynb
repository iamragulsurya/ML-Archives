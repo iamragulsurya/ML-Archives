{
 "cells": [
  {
   "cell_type": "code",
   "execution_count": 1,
   "metadata": {},
   "outputs": [],
   "source": [
    "import torch"
   ]
  },
  {
   "cell_type": "code",
   "execution_count": 2,
   "metadata": {},
   "outputs": [
    {
     "data": {
      "text/plain": [
       "tensor([[1., 2., 3.],\n",
       "        [4., 5., 6.]], requires_grad=True)"
      ]
     },
     "execution_count": 2,
     "metadata": {},
     "output_type": "execute_result"
    }
   ],
   "source": [
    "# Tensor Initialization\n",
    "my_tensor = torch.tensor([[1, 2, 3], [4, 5, 6]],\n",
    "                         dtype=torch.float32, \n",
    "                         device='cpu',\n",
    "                         requires_grad=True)\n",
    "my_tensor"
   ]
  },
  {
   "cell_type": "code",
   "execution_count": 3,
   "metadata": {},
   "outputs": [],
   "source": [
    "# device\n",
    "device = 'cuda' if torch.cuda.is_available() else 'cup'\n",
    "my_tensor = my_tensor.to(device)"
   ]
  },
  {
   "cell_type": "code",
   "execution_count": 4,
   "metadata": {},
   "outputs": [
    {
     "name": "stdout",
     "output_type": "stream",
     "text": [
      "tensor([[1., 2., 3.],\n",
      "        [4., 5., 6.]], device='cuda:0', grad_fn=<ToCopyBackward0>)\n",
      "torch.float32\n",
      "torch.Size([2, 3])\n",
      "cuda:0\n",
      "True\n"
     ]
    }
   ],
   "source": [
    "# important member functions\n",
    "print(my_tensor)\n",
    "print(my_tensor.dtype)\n",
    "print(my_tensor.shape)\n",
    "print(my_tensor.device)\n",
    "print(my_tensor.requires_grad)"
   ]
  },
  {
   "cell_type": "code",
   "execution_count": 5,
   "metadata": {},
   "outputs": [],
   "source": [
    "# common initialization methods\n",
    "x = torch.empty(size=(2, 2))\n",
    "x = torch.zeros((3, 3))\n",
    "x = torch.ones((3, 3))\n",
    "x = torch.rand((3, 3))\n",
    "x = torch.eye(3, 3) # Identity matrix\n",
    "x = torch.arange(start=2, end=10, step=0.5) # like range function in python\n",
    "x = torch.linspace(start=0, end=1, steps=30) # 30 values inbetween start and end\n",
    "x = torch.empty(1, 5).normal_(mean=0, std=1) # normal distribution\n",
    "x = torch.empty(1, 5).uniform_(0, 1) # uniform distribution\n",
    "x = torch.diag(torch.ones(3)) # same as Identity matrix"
   ]
  },
  {
   "cell_type": "code",
   "execution_count": 6,
   "metadata": {},
   "outputs": [
    {
     "name": "stdout",
     "output_type": "stream",
     "text": [
      "tensor([False,  True,  True,  True])\n",
      "tensor([0, 1, 2, 3], dtype=torch.int16)\n",
      "tensor([0., 1., 2., 3.], dtype=torch.float16)\n",
      "tensor([0., 1., 2., 3.])\n",
      "tensor([0., 1., 2., 3.], dtype=torch.float64)\n",
      "tensor([0, 1, 2, 3])\n"
     ]
    }
   ],
   "source": [
    "# how to initialize and convert tensors to other types (int, float, double)\n",
    "tensor = torch.arange(4)\n",
    "print(tensor.bool()) #boolean\n",
    "print(tensor.short()) #int15\n",
    "print(tensor.half()) #float16\n",
    "print(tensor.float()) #float32 (Important)\n",
    "print(tensor.double()) #float64\n",
    "print(tensor.long()) #int64 (Important)"
   ]
  },
  {
   "cell_type": "code",
   "execution_count": 7,
   "metadata": {},
   "outputs": [
    {
     "name": "stdout",
     "output_type": "stream",
     "text": [
      "tensor([1, 2, 3], dtype=torch.int32) [1 2 3]\n"
     ]
    }
   ],
   "source": [
    "# Array to Tensor and vice versa conversion\n",
    "import numpy as np\n",
    "np_arr = np.array([1, 2, 3])\n",
    "tensor = torch.from_numpy(np_arr)\n",
    "np_arr = tensor.numpy()\n",
    "print(tensor, np_arr)"
   ]
  },
  {
   "cell_type": "code",
   "execution_count": 8,
   "metadata": {},
   "outputs": [
    {
     "name": "stdout",
     "output_type": "stream",
     "text": [
      "tensor([True, True, True])\n"
     ]
    }
   ],
   "source": [
    "#=================================================#\n",
    "#         Math and Comparison Operations          #\n",
    "#=================================================#\n",
    "x = torch.tensor([1, 2, 3])\n",
    "y = torch.tensor([4, 5, 6])\n",
    "\n",
    "# Addition\n",
    "z = x + y\n",
    "z1 = torch.add(x, y)\n",
    "\n",
    "# Subtraction\n",
    "z = x - y\n",
    "\n",
    "# Division\n",
    "z = x / y\n",
    "\n",
    "# Divide Every Element by 6\n",
    "z = torch.true_divide(x, 6)\n",
    "\n",
    "# Inplace operation\n",
    "t = torch.empty(3)\n",
    "t.add_(x)\n",
    "t += x # both are same\n",
    "\n",
    "# Exponentiation\n",
    "z = x.pow(2)\n",
    "z = x ** 2\n",
    "\n",
    "# Simple Comparision\n",
    "z = x > 0\n",
    "print(z)"
   ]
  },
  {
   "cell_type": "code",
   "execution_count": 9,
   "metadata": {},
   "outputs": [],
   "source": [
    "# Matrix Multiplication\n",
    "x1 = torch.rand((3, 5))\n",
    "x2 = torch.rand((5, 3))\n",
    "x3 = x1.mm(x2)\n",
    "x3 = torch.mm(x1, x2)\n",
    "x3 = x1 @ x2"
   ]
  },
  {
   "cell_type": "code",
   "execution_count": 10,
   "metadata": {},
   "outputs": [
    {
     "name": "stdout",
     "output_type": "stream",
     "text": [
      "tensor([[1.3121, 1.5651, 0.9993, 1.1207, 0.7575],\n",
      "        [1.1773, 1.1870, 0.8511, 0.9710, 0.7881],\n",
      "        [0.6680, 1.0235, 1.0200, 0.7075, 0.7390],\n",
      "        [1.2161, 1.5707, 1.8177, 1.0520, 1.3022],\n",
      "        [0.8896, 1.4444, 1.5936, 0.8101, 1.0170]])\n"
     ]
    }
   ],
   "source": [
    "# Matrix exponentiation\n",
    "matrix_exp = torch.rand(5, 5)\n",
    "print(matrix_exp.matrix_power(2))"
   ]
  },
  {
   "cell_type": "code",
   "execution_count": 11,
   "metadata": {},
   "outputs": [
    {
     "name": "stdout",
     "output_type": "stream",
     "text": [
      "tensor([ 3,  8, 15])\n",
      "tensor(26)\n"
     ]
    }
   ],
   "source": [
    "# element wise matmul\n",
    "a = torch.tensor([1, 2, 3])\n",
    "b = torch.tensor([3, 4, 5])\n",
    "c = a * b\n",
    "print(c)\n",
    "\n",
    "# dot product\n",
    "c = a.dot(b)\n",
    "print(c)"
   ]
  },
  {
   "cell_type": "code",
   "execution_count": 12,
   "metadata": {},
   "outputs": [],
   "source": [
    "#=================================================#\n",
    "#         Batch Matrix Multiplication             #\n",
    "#=================================================#\n",
    "batch = 32\n",
    "n = 10\n",
    "m = 20\n",
    "p = 30\n",
    "\n",
    "tensor1 = torch.rand((batch, n, m))\n",
    "tensor2 = torch.rand((batch, m, p))\n",
    "out_bmm = torch.bmm(tensor1, tensor2) # (batch, n, p)"
   ]
  },
  {
   "cell_type": "code",
   "execution_count": 17,
   "metadata": {},
   "outputs": [],
   "source": [
    "#Example of broadcasting\n",
    "x1 = torch.rand((5, 5))\n",
    "x2 = torch.rand((1, 5))\n",
    "z = x1 - x2\n",
    "z = x1 ** x2"
   ]
  },
  {
   "cell_type": "code",
   "execution_count": 78,
   "metadata": {},
   "outputs": [],
   "source": [
    "#=================================================#\n",
    "#      Other useful tensor Math operations        #\n",
    "#=================================================#\n",
    "x = torch.rand(5)\n",
    "sum_x = torch.sum(x, dim=0)\n",
    "\n",
    "values, idx = torch.max(x, dim=0)\n",
    "values, idx = torch.min(x, dim=0)\n",
    "\n",
    "abs_x = torch.abs(x)\n",
    "z = torch.argmax(x)\n",
    "z = torch.argmin(x)\n",
    "\n",
    "mean_x = torch.mean(x)\n",
    "\n",
    "z = torch.eq(x, x)\n",
    "\n",
    "sorted_x, indices = torch.sort(x, dim=0, descending=True)\n",
    "\n",
    "z = torch.clamp(x, min=0, max=0.5) #if the element is below 0 then it is set to 0 and above .5 then it is set to .5"
   ]
  },
  {
   "cell_type": "code",
   "execution_count": 99,
   "metadata": {},
   "outputs": [
    {
     "name": "stdout",
     "output_type": "stream",
     "text": [
      "torch.Size([25])\n",
      "torch.Size([10])\n",
      "torch.Size([10])\n",
      "tensor([0, 1, 9])\n",
      "tensor([0, 2, 4, 6, 8])\n"
     ]
    },
    {
     "data": {
      "text/plain": [
       "18"
      ]
     },
     "execution_count": 99,
     "metadata": {},
     "output_type": "execute_result"
    }
   ],
   "source": [
    "#=================================================#\n",
    "#                Tensor Indexing                  #\n",
    "#=================================================#\n",
    "batch_size = 10\n",
    "features = 25\n",
    "x = torch.rand(batch_size, features)\n",
    "\n",
    "print(x[0, :].shape) # \n",
    "\n",
    "print(x[:, 0].shape)\n",
    "\n",
    "print(x[2, 0:10].shape) # --> [0, 1, 2, ...., 9]\n",
    "\n",
    "x[0, 0] = 100\n",
    "\n",
    "# Fancy Indexing\n",
    "x = torch.arange(10)\n",
    "indices = [2, 3, 5]\n",
    "x[indices]\n",
    "\n",
    "x = torch.rand(3, 5)\n",
    "rows = torch.tensor([2, 0])\n",
    "cols = torch.tensor([1, 3])\n",
    "x[rows, cols] # prints x[2][1] and x[0][3]\n",
    "\n",
    "# Advanced Indexing\n",
    "x = torch.arange(10)\n",
    "print(x[(x < 2) | (x > 8)])\n",
    "print(x[x.remainder(2) == 0])\n",
    "\n",
    "# Useful Operations\n",
    "torch.where(x > 5, x, x*3) # if value is greater than 5 then it will be printed else it will be multiplied by 3\n",
    "torch.tensor([1, 2, 3, 4, 4, 4]).unique()\n",
    "torch.rand(2, 3, 3).ndimension()\n",
    "torch.rand(2, 3, 3).numel() # it will print no of elements in the tensor, In this case 2*3*3"
   ]
  },
  {
   "cell_type": "code",
   "execution_count": 115,
   "metadata": {},
   "outputs": [
    {
     "name": "stdout",
     "output_type": "stream",
     "text": [
      "tensor([[0, 1, 2],\n",
      "        [3, 4, 5],\n",
      "        [6, 7, 8]])\n",
      "tensor([0, 3, 6, 1, 4, 7, 2, 5, 8])\n",
      "torch.Size([4, 5])\n",
      "torch.Size([2, 10])\n",
      "torch.Size([10])\n",
      "torch.Size([32, 10])\n",
      "torch.Size([32, 5, 2])\n",
      "torch.Size([1, 10])\n",
      "torch.Size([10, 1])\n",
      "torch.Size([1, 10])\n"
     ]
    }
   ],
   "source": [
    "#=================================================#\n",
    "#                Tensor Reshaping                 #\n",
    "#=================================================#\n",
    "x = torch.arange(9)\n",
    "\n",
    "x_3x3 = x.view(3, 3) #It requires contiguous memory\n",
    "print(x_3x3)\n",
    "x_3x3 = x.reshape(3, 3) # so it is safe compared to view but slower\n",
    "\n",
    "y = x_3x3.t() # transpose\n",
    "print(y.contiguous().view(9))\n",
    "\n",
    "x1 = torch.rand((2, 5))\n",
    "x2 = torch.rand((2, 5))\n",
    "print(torch.cat((x1, x2), dim=0).shape)\n",
    "print(torch.cat((x1, x2), dim=1).shape)\n",
    "\n",
    "z = x1.view(-1) # it flattens\n",
    "print(z.shape)\n",
    "\n",
    "batch_size = 32\n",
    "x = torch.rand(batch_size, 2, 5)\n",
    "print(x.view(batch_size, -1).shape)\n",
    "\n",
    "z = x.permute(0, 2, 1) # swap the dimensions\n",
    "print(z.shape)\n",
    "\n",
    "x = torch.arange(10)\n",
    "print(x.unsqueeze(0).shape)\n",
    "print(x.unsqueeze(1).shape)\n",
    "\n",
    "x = torch.arange(10).unsqueeze(0).unsqueeze(1) #1x1x10\n",
    "print(x.squeeze(0).shape)"
   ]
  }
 ],
 "metadata": {
  "kernelspec": {
   "display_name": "Python 3",
   "language": "python",
   "name": "python3"
  },
  "language_info": {
   "codemirror_mode": {
    "name": "ipython",
    "version": 3
   },
   "file_extension": ".py",
   "mimetype": "text/x-python",
   "name": "python",
   "nbconvert_exporter": "python",
   "pygments_lexer": "ipython3",
   "version": "3.10.4"
  }
 },
 "nbformat": 4,
 "nbformat_minor": 2
}
